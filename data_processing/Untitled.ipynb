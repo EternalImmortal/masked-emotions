{
 "cells": [
  {
   "cell_type": "code",
   "execution_count": 8,
   "metadata": {},
   "outputs": [],
   "source": [
    "import requests\n",
    "from pathlib import Path\n",
    "\n",
    "import cv2\n",
    "import dlib\n",
    "import matplotlib.pyplot as plt\n",
    "import numpy as np\n",
    "\n"
   ]
  },
  {
   "cell_type": "code",
   "execution_count": 9,
   "metadata": {},
   "outputs": [],
   "source": [
    "SH_PRED_URL = 'https://github.com/italojs/facial-landmarks-recognition/raw/master/shape_predictor_68_face_landmarks.dat'\n",
    "SH_PRED_FILE = './shape_predictor_68_face_landmarks.dat'\n",
    "\n",
    "def get_detect_and_predict():\n",
    "    if not Path(SH_PRED_FILE).exists():\n",
    "        predicter_data = requests.get(SH_PRED_URL)\n",
    "\n",
    "        with open(Path(SH_PRED_FILE), 'wb') as f:\n",
    "            f.write(predicter_data.content)\n",
    "\n",
    "    return dlib.get_frontal_face_detector(), dlib.shape_predictor(SH_PRED_FILE)"
   ]
  },
  {
   "cell_type": "code",
   "execution_count": 10,
   "metadata": {},
   "outputs": [
    {
     "data": {
      "text/plain": [
       "(<_dlib_pybind11.fhog_object_detector at 0x18ef3495f70>,\n",
       " <_dlib_pybind11.shape_predictor at 0x18ef3495e30>)"
      ]
     },
     "execution_count": 10,
     "metadata": {},
     "output_type": "execute_result"
    }
   ],
   "source": [
    "get_detect_and_predict()"
   ]
  },
  {
   "cell_type": "code",
   "execution_count": null,
   "metadata": {},
   "outputs": [],
   "source": []
  }
 ],
 "metadata": {
  "kernelspec": {
   "display_name": "Python 3",
   "language": "python",
   "name": "python3"
  },
  "language_info": {
   "codemirror_mode": {
    "name": "ipython",
    "version": 3
   },
   "file_extension": ".py",
   "mimetype": "text/x-python",
   "name": "python",
   "nbconvert_exporter": "python",
   "pygments_lexer": "ipython3",
   "version": "3.8.3"
  }
 },
 "nbformat": 4,
 "nbformat_minor": 4
}
